{
 "cells": [
  {
   "cell_type": "code",
   "execution_count": 36,
   "metadata": {},
   "outputs": [],
   "source": [
    "import sys\n",
    "sys.path.append('/usr/local/lib/python3.5/dist-packages/')\n",
    "import tensorflow as tf\n",
    "import tensorflow_hub as hub\n",
    "import numpy as np\n",
    "import os\n",
    "import http.client, urllib.request, urllib.parse, urllib.error, base64\n",
    "import json\n",
    "import warnings\n",
    "warnings.filterwarnings(\"ignore\")\n",
    "import pickle\n",
    "import sentencepiece as spm"
   ]
  },
  {
   "cell_type": "code",
   "execution_count": 37,
   "metadata": {},
   "outputs": [
    {
     "name": "stdout",
     "output_type": "stream",
     "text": [
      "SentencePiece model loaded at b'C:\\\\Users\\\\Arsh-PC\\\\AppData\\\\Local\\\\Temp\\\\tfhub_modules\\\\539544f0a997d91c327c23285ea00c37588d92cc\\\\assets\\\\universal_encoder_8k_spm.model'.\n"
     ]
    }
   ],
   "source": [
    "media_app='whatsapp'# modify your media app here\n",
    "\n",
    "module_url = \"https://tfhub.dev/google/universal-sentence-encoder-lite/2\"\n",
    "embed = hub.Module(module_url)\n",
    "tf.logging.set_verbosity(tf.logging.WARN)\n",
    "\n",
    "module = hub.Module(\"https://tfhub.dev/google/universal-sentence-encoder-lite/2\")\n",
    "input_placeholder = tf.sparse_placeholder(tf.int64, shape=[None, None])\n",
    "encodings = module(\n",
    "    inputs=dict(\n",
    "        values=input_placeholder.values,\n",
    "        indices=input_placeholder.indices,\n",
    "        dense_shape=input_placeholder.dense_shape))\n",
    "\n",
    "with tf.Session() as sess:\n",
    "    spm_path = sess.run(module(signature=\"spm_path\"))\n",
    "\n",
    "sp = spm.SentencePieceProcessor()\n",
    "sp.Load(spm_path)\n",
    "print(\"SentencePiece model loaded at {}.\".format(spm_path))"
   ]
  },
  {
   "cell_type": "code",
   "execution_count": 38,
   "metadata": {},
   "outputs": [],
   "source": [
    "def process_to_IDs_in_sparse_format(sp, sentences):\n",
    "  # An utility method that processes sentences with the sentence piece processor\n",
    "  # 'sp' and returns the results in tf.SparseTensor-similar format:\n",
    "  # (values, indices, dense_shape)\n",
    "    ids = [sp.EncodeAsIds(x) for x in sentences]\n",
    "    max_len = max(len(x) for x in ids)\n",
    "    dense_shape=(len(ids), max_len)\n",
    "    values=[item for sublist in ids for item in sublist]\n",
    "    indices=[[row,col] for row in range(len(ids)) for col in range(len(ids[row]))]\n",
    "    return (values, indices, dense_shape)\n",
    "\n",
    "def embed_sentence_lite(sentences):\n",
    "    messages = sentences\n",
    "    values, indices, dense_shape = process_to_IDs_in_sparse_format(sp, messages)\n",
    "\n",
    "    # Reduce logging output.\n",
    "    tf.logging.set_verbosity(tf.logging.ERROR)\n",
    "\n",
    "    with tf.Session() as session:\n",
    "        session.run([tf.global_variables_initializer(), tf.tables_initializer()])\n",
    "        message_embeddings = session.run(\n",
    "          encodings,\n",
    "          feed_dict={input_placeholder.values: values,\n",
    "                    input_placeholder.indices: indices,\n",
    "                    input_placeholder.dense_shape: dense_shape})\n",
    "    \n",
    "    return message_embeddings"
   ]
  },
  {
   "cell_type": "code",
   "execution_count": 39,
   "metadata": {},
   "outputs": [],
   "source": [
    "def find_closest(sentence_rep,query_rep,K):\n",
    "    top_K = np.argsort(np.sqrt((np.sum(np.square(sentence_rep - query_rep),axis=1))))[:K]\n",
    "    return top_K"
   ]
  },
  {
   "cell_type": "code",
   "execution_count": 40,
   "metadata": {},
   "outputs": [],
   "source": [
    "def embed_sentences(sentences):\n",
    "    message_embeddings = []\n",
    "    user_embedding = []\n",
    "    \n",
    "    with tf.Session() as session:\n",
    "        session.run([tf.global_variables_initializer(), tf.tables_initializer()])\n",
    "        message_embeddings = session.run(embed(sentences))\n",
    "\n",
    "    return message_embeddings\n",
    "\n",
    "def get_sentiments(json_body):\n",
    "    headers = {\n",
    "        # Request headers\n",
    "        'Content-Type': 'application/json',\n",
    "        'Ocp-Apim-Subscription-Key': YOUR_KEY_HERE,\n",
    "    }\n",
    "\n",
    "    params = urllib.parse.urlencode({})\n",
    "\n",
    "    conn = http.client.HTTPSConnection('westus.api.cognitive.microsoft.com')\n",
    "    conn.request(\"POST\", \"/text/analytics/v2.0/sentiment?\", json_body, headers)\n",
    "    response = conn.getresponse()\n",
    "    data = response.read()\n",
    "    return data\n"
   ]
  },
  {
   "cell_type": "code",
   "execution_count": 41,
   "metadata": {},
   "outputs": [
    {
     "name": "stdout",
     "output_type": "stream",
     "text": [
      "0\n"
     ]
    }
   ],
   "source": [
    "f = open('res/'+media_app+'/your_sents.p','rb')\n",
    "your_sentences = pickle.load(f)\n",
    "f.close()\n",
    "\n",
    "list_embeds = []\n",
    "for i in range(0,len(your_sentences),500):\n",
    "    print(i)\n",
    "    list_embeds.append(embed_sentence_lite(your_sentences[i:i+500]))\n",
    "    \n",
    "your_embeddings = np.vstack(list_embeds)"
   ]
  },
  {
   "cell_type": "code",
   "execution_count": 42,
   "metadata": {},
   "outputs": [],
   "source": [
    "f = open('res/'+media_app+'/your_embeddings.p','wb')\n",
    "pickle.dump(your_embeddings,f)\n",
    "f.close()"
   ]
  },
  {
   "cell_type": "code",
   "execution_count": 43,
   "metadata": {},
   "outputs": [],
   "source": [
    "with open('res/'+media_app+'/dilogues.p','rb') as F:\n",
    "    you_to_other = pickle.load(F)"
   ]
  },
  {
   "cell_type": "code",
   "execution_count": 44,
   "metadata": {},
   "outputs": [
    {
     "name": "stdout",
     "output_type": "stream",
     "text": [
      "0\n"
     ]
    }
   ],
   "source": [
    "f = open('res/'+media_app+'/other_sents.p','rb')\n",
    "other_sentences = pickle.load(f)\n",
    "f.close()\n",
    "\n",
    "list_embeds = []\n",
    "for i in range(0,len(other_sentences),500):\n",
    "    print(i)\n",
    "    list_embeds.append(embed_sentence_lite(other_sentences[i:i+500]))\n",
    "    \n",
    "other_embeddings = np.vstack(list_embeds)\n",
    "\n",
    "import pickle\n",
    "f = open('res/'+media_app+'/other_embeddings.p','wb')\n",
    "pickle.dump(other_embeddings,f)\n",
    "f.close()"
   ]
  },
  {
   "cell_type": "code",
   "execution_count": 45,
   "metadata": {},
   "outputs": [],
   "source": [
    "with open('res/'+media_app+'/dilogues.p','rb') as F:\n",
    "    you_to_other = pickle.load(F)"
   ]
  },
  {
   "cell_type": "code",
   "execution_count": 46,
   "metadata": {},
   "outputs": [
    {
     "name": "stdout",
     "output_type": "stream",
     "text": [
      "0\n"
     ]
    }
   ],
   "source": [
    "keys = list(you_to_other.keys())\n",
    "\n",
    "list_embeds = []\n",
    "for i in range(0,len(keys),500):\n",
    "    print(i)\n",
    "    list_embeds.append(embed_sentence_lite(keys[i:i+500]))\n",
    "    \n",
    "key_embeddings = np.vstack(list_embeds)\n",
    "\n",
    "import pickle\n",
    "f = open('res/'+media_app+'/key_embeddings.p','wb')\n",
    "pickle.dump(key_embeddings,f)\n",
    "f.close()"
   ]
  },
  {
   "cell_type": "code",
   "execution_count": 47,
   "metadata": {},
   "outputs": [],
   "source": [
    "import pickle\n",
    "f = open('res/'+media_app+'/other_embeddings.p','rb')\n",
    "other_embeddings = pickle.load(f)\n",
    "f.close()\n",
    "\n",
    "f = open('res/'+media_app+'/your_embeddings.p','rb')\n",
    "your_embeddings = pickle.load(f)\n",
    "f.close()\n",
    "\n",
    "f = open('res/'+media_app+'/dilogues.p','rb')\n",
    "pr_to_sp = pickle.load(f)\n",
    "f.close()\n",
    "\n",
    "\n",
    "f = open('res/'+media_app+'/your_sents.p','rb')\n",
    "your_sentences = pickle.load(f)\n",
    "f.close()"
   ]
  },
  {
   "cell_type": "code",
   "execution_count": 48,
   "metadata": {},
   "outputs": [],
   "source": [
    "keys = list(pr_to_sp.keys())"
   ]
  },
  {
   "cell_type": "code",
   "execution_count": 49,
   "metadata": {},
   "outputs": [],
   "source": [
    "f = open('res/'+media_app+'/key_embeddings.p','rb')\n",
    "key_embeddings = pickle.load(f)\n",
    "f.close()"
   ]
  },
  {
   "cell_type": "code",
   "execution_count": 50,
   "metadata": {},
   "outputs": [],
   "source": [
    "def speak_like_me(query,K,your_embeddings,other_embeddings,your_sen):\n",
    "    other_query = [query]\n",
    "    query_embedding = embed_sentence_lite(other_query)\n",
    "    closest_your = find_closest(your_embeddings,query_embedding,K)\n",
    "    for cl in closest_your:\n",
    "        print(your_sentences[cl])"
   ]
  },
  {
   "cell_type": "code",
   "execution_count": 51,
   "metadata": {},
   "outputs": [],
   "source": [
    "def respond_like_me(query,K,key_embeddings,keys):\n",
    "    other_query = [query]\n",
    "    query_embedding = embed_sentence_lite(other_query)\n",
    "    closest_other = find_closest(key_embeddings,query_embedding,K+2)\n",
    "    for k in closest_other[3:]:\n",
    "        print(pr_to_sp[keys[k]])"
   ]
  },
  {
   "cell_type": "code",
   "execution_count": 52,
   "metadata": {},
   "outputs": [
    {
     "name": "stdout",
     "output_type": "stream",
     "text": [
      "30 ko hai yaa 31 ko?🤨\n",
      "\n",
      "aise sawaal nhi poochte behna\n",
      "\n",
      "Sahii meinn\n",
      "\n"
     ]
    }
   ],
   "source": [
    "respond_like_me(\"What's up?\",4,key_embeddings,keys)"
   ]
  },
  {
   "cell_type": "code",
   "execution_count": 53,
   "metadata": {},
   "outputs": [
    {
     "name": "stdout",
     "output_type": "stream",
     "text": [
      "Krdegi abhi?\n",
      "\n",
      "Kaunsi?\n",
      "\n"
     ]
    }
   ],
   "source": [
    "speak_like_me(\"Kab aayega?\",2,your_embeddings,other_embeddings,your_sentences)"
   ]
  },
  {
   "cell_type": "code",
   "execution_count": null,
   "metadata": {},
   "outputs": [],
   "source": []
  }
 ],
 "metadata": {
  "kernelspec": {
   "display_name": "Python 3",
   "language": "python",
   "name": "python3"
  },
  "language_info": {
   "codemirror_mode": {
    "name": "ipython",
    "version": 3
   },
   "file_extension": ".py",
   "mimetype": "text/x-python",
   "name": "python",
   "nbconvert_exporter": "python",
   "pygments_lexer": "ipython3",
   "version": "3.7.8"
  }
 },
 "nbformat": 4,
 "nbformat_minor": 2
}
